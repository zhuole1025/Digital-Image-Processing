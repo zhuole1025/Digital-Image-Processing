{
 "metadata": {
  "language_info": {
   "codemirror_mode": {
    "name": "ipython",
    "version": 3
   },
   "file_extension": ".py",
   "mimetype": "text/x-python",
   "name": "python",
   "nbconvert_exporter": "python",
   "pygments_lexer": "ipython3",
   "version": "3.7.10"
  },
  "orig_nbformat": 4,
  "kernelspec": {
   "name": "python3",
   "display_name": "Python 3.7.10 64-bit ('base': conda)"
  },
  "interpreter": {
   "hash": "dca0ade3e726a953b501b15e8e990130d2b7799f14cfd9f4271676035ebe5511"
  }
 },
 "nbformat": 4,
 "nbformat_minor": 2,
 "cells": [
  {
   "cell_type": "code",
   "execution_count": 1,
   "metadata": {},
   "outputs": [],
   "source": [
    "import cv2\n",
    "import numpy as np\n",
    "\n"
   ]
  },
  {
   "cell_type": "code",
   "execution_count": 5,
   "metadata": {},
   "outputs": [],
   "source": [
    "img = cv2.imread('../img/Fig0905(a)(wirebond-mask).tif', 0)\n",
    "kernel_1 = np.ones((3, 3), np.uint8)\n",
    "kernel_2 = np.ones((5, 5), np.uint8)\n",
    "kernel_3 = cv2.getStructuringElement(cv2.MORPH_RECT, (5, 5))  # 矩形结构\n",
    "kernel_4 = cv2.getStructuringElement(cv2.MORPH_ELLIPSE, (5, 5))  # 椭圆结构\n",
    "kernel_5 = cv2.getStructuringElement(cv2.MORPH_CROSS, (5, 5))  # 十字形结构\n",
    "erosion_1 = cv2.erode(img, kernel_1)  # 腐蚀\n",
    "erosion_2 = cv2.erode(img, kernel_2)  # 腐蚀\n",
    "erosion_3 = cv2.erode(img, kernel_3)  # 腐蚀\n",
    "erosion_4 = cv2.erode(img, kernel_4)  # 腐蚀\n",
    "erosion_5 = cv2.erode(img, kernel_5)  # 腐蚀"
   ]
  },
  {
   "cell_type": "code",
   "execution_count": 6,
   "metadata": {},
   "outputs": [],
   "source": [
    "cv2.imshow(\"img\", img)\n",
    "cv2.imshow(\"erosion_1\", erosion_1)\n",
    "cv2.imshow(\"erosion_2\", erosion_2)\n",
    "cv2.imshow(\"erosion_3\", erosion_3)\n",
    "cv2.imshow(\"erosion_4\", erosion_4)\n",
    "cv2.imshow(\"erosion_5\", erosion_5)\n",
    "cv2.waitKey(0)\n",
    "cv2.destroyAllWindows()"
   ]
  },
  {
   "cell_type": "code",
   "execution_count": 11,
   "metadata": {},
   "outputs": [],
   "source": [
    "img2 = cv2.imread('../img/Fig0907(a)(text_gaps_1_and_2_pixels).tif', 0)\n",
    "kernel_1 = np.ones((1, 1), np.uint8)\n",
    "kernel_2 = np.ones((3, 3), np.uint8)\n",
    "dilation_1 = cv2.dilate(img2, kernel_1)  # 膨胀\n",
    "dilation_2 = cv2.dilate(img2, kernel_2)  # 膨胀"
   ]
  },
  {
   "cell_type": "code",
   "execution_count": 12,
   "metadata": {},
   "outputs": [],
   "source": [
    "cv2.imshow(\"img\", img2)\n",
    "cv2.imshow(\"dilation_1\", dilation_1)\n",
    "cv2.imshow(\"dilation_2\", dilation_2)\n",
    "cv2.waitKey(0)\n",
    "cv2.destroyAllWindows()"
   ]
  },
  {
   "cell_type": "code",
   "execution_count": 2,
   "metadata": {},
   "outputs": [],
   "source": [
    "kernel = cv2.getStructuringElement(cv2.MORPH_RECT, (3, 3))  # 定义结构元素\n",
    "img3 = cv2.imread('../img/Fig0911(a)(noisy_fingerprint).tif', 0)\n",
    "opening = cv2.morphologyEx(img3, cv2.MORPH_OPEN, kernel)  # 开运算\n",
    "closing = cv2.morphologyEx(opening, cv2.MORPH_CLOSE, kernel)  # 闭运算"
   ]
  },
  {
   "cell_type": "code",
   "execution_count": 3,
   "metadata": {},
   "outputs": [],
   "source": [
    "cv2.imshow(\"img\", img3)\n",
    "cv2.imshow(\"opening\", opening)\n",
    "cv2.imshow(\"closing\", closing)\n",
    "cv2.waitKey(0)\n",
    "cv2.destroyAllWindows()"
   ]
  },
  {
   "cell_type": "code",
   "execution_count": 13,
   "metadata": {},
   "outputs": [],
   "source": [
    "kernel_1 = cv2.getStructuringElement(cv2.MORPH_ELLIPSE, (2, 2))\n",
    "kernel_2 = cv2.getStructuringElement(cv2.MORPH_ELLIPSE, (6, 6))\n",
    "kernel_3 = cv2.getStructuringElement(cv2.MORPH_ELLIPSE, (10, 10))\n",
    "img4 = cv2.imread('../img/Fig0938(a)(cygnusloop_Xray_original).tif')\n",
    "phase1 = cv2.morphologyEx(img4, cv2.MORPH_OPEN, kernel_1)\n",
    "phase1 = cv2.morphologyEx(phase1, cv2.MORPH_CLOSE, kernel_1)\n",
    "phase2 = cv2.morphologyEx(phase1, cv2.MORPH_OPEN, kernel_2)\n",
    "phase2 = cv2.morphologyEx(phase2, cv2.MORPH_CLOSE, kernel_2)\n",
    "phase3 = cv2.morphologyEx(phase2, cv2.MORPH_OPEN, kernel_2)\n",
    "phase3 = cv2.morphologyEx(phase3, cv2.MORPH_CLOSE, kernel_2)"
   ]
  },
  {
   "cell_type": "code",
   "execution_count": 14,
   "metadata": {},
   "outputs": [],
   "source": [
    "cv2.imshow(\"img\", img4)\n",
    "cv2.imshow(\"phase1\", phase1)\n",
    "cv2.imshow(\"phase2\", phase2)\n",
    "cv2.imshow(\"phase3\", phase3)\n",
    "cv2.waitKey(0)\n",
    "cv2.destroyAllWindows()"
   ]
  },
  {
   "cell_type": "code",
   "execution_count": 23,
   "metadata": {},
   "outputs": [],
   "source": [
    "kernel_1 = cv2.getStructuringElement(cv2.MORPH_ELLIPSE, (60, 60))\n",
    "kernel_2 = cv2.getStructuringElement(cv2.MORPH_ELLIPSE, (120, 120))\n",
    "img6 = cv2.imread('../img/Fig0943(a)(dark_blobs_on_light_background).tif')\n",
    "closing = cv2.morphologyEx(img6, cv2.MORPH_CLOSE, kernel_1)\n",
    "opening = cv2.morphologyEx(closing, cv2.MORPH_OPEN, kernel_2)"
   ]
  },
  {
   "cell_type": "code",
   "execution_count": 25,
   "metadata": {},
   "outputs": [],
   "source": [
    "cv2.imshow(\"img\", img6)\n",
    "cv2.imshow(\"opening\", opening)\n",
    "cv2.imshow(\"closing\", closing)\n",
    "cv2.waitKey(0)\n",
    "cv2.destroyAllWindows()"
   ]
  },
  {
   "cell_type": "code",
   "execution_count": 26,
   "metadata": {},
   "outputs": [],
   "source": [
    "kernel_1 = cv2.getStructuringElement(cv2.MORPH_ELLIPSE, (100, 100))\n",
    "img5 = cv2.imread('../img/Fig0940(a)(rice_image_with_intensity_gradient).tif')\n",
    "opening = cv2.morphologyEx(img5, cv2.MORPH_OPEN, kernel_1)\n",
    "whitehat = img5.copy().astype('float64')\n",
    "whitehat = whitehat - opening"
   ]
  },
  {
   "cell_type": "code",
   "execution_count": null,
   "metadata": {},
   "outputs": [],
   "source": [
    "cv2.imshow(\"img\", img5)\n",
    "cv2.imshow(\"opening\", opening)\n",
    "cv2.imshow(\"whitehat\", white)\n",
    "cv2.waitKey(0)\n",
    "cv2.destroyAllWindows()"
   ]
  }
 ]
}