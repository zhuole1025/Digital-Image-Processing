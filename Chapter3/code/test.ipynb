{
 "metadata": {
  "language_info": {
   "codemirror_mode": {
    "name": "ipython",
    "version": 3
   },
   "file_extension": ".py",
   "mimetype": "text/x-python",
   "name": "python",
   "nbconvert_exporter": "python",
   "pygments_lexer": "ipython3",
   "version": "3.7.10"
  },
  "orig_nbformat": 2,
  "kernelspec": {
   "name": "python3710jvsc74a57bd0dca0ade3e726a953b501b15e8e990130d2b7799f14cfd9f4271676035ebe5511",
   "display_name": "Python 3.7.10 64-bit ('base': conda)"
  }
 },
 "nbformat": 4,
 "nbformat_minor": 2,
 "cells": [
  {
   "cell_type": "code",
   "execution_count": 1,
   "metadata": {},
   "outputs": [],
   "source": [
    "\n",
    "import cv2\n",
    "import numpy as np\n",
    "import math\n",
    "import matplotlib.pyplot as plt"
   ]
  },
  {
   "cell_type": "code",
   "execution_count": 6,
   "metadata": {},
   "outputs": [],
   "source": [
    "def img_trans_reverse(img):\n",
    "    return 255 - img"
   ]
  },
  {
   "cell_type": "code",
   "execution_count": 114,
   "metadata": {},
   "outputs": [],
   "source": [
    "def rgbtransgray(img):\n",
    "    height, width, channels = img.shape\n",
    "    img_gray = np.zeros((height, width))\n",
    "    img_gray = np.round(img[:, :, 0] / 3 + img[:, :, 1] / 3 + img[:, :, 2] / 3)\n",
    "    return np.clip(img_gray, 0, 255).astype('uint8')"
   ]
  },
  {
   "cell_type": "code",
   "execution_count": 118,
   "metadata": {},
   "outputs": [],
   "source": [
    "def img_trans_log(img, c):\n",
    "    height, width, channels = img.shape\n",
    "    log_img = np.zeros((height, width, channels))\n",
    "    log_img = c * np.log(1.0 + img)\n",
    "    min_val = log_img.min()\n",
    "    max_val = log_img.max()\n",
    "    log_img = (log_img - min_val) / (max_val - min_val) * 255\n",
    "    return np.clip(log_img, 0, 255).astype('uint8')"
   ]
  },
  {
   "cell_type": "code",
   "execution_count": 119,
   "metadata": {},
   "outputs": [],
   "source": [
    "def img_trans_gamma(img, c, gamma):\n",
    "    height, width, channels = img.shape\n",
    "    gamma_img = np.zeros((height, width, channels))\n",
    "    gamma_img = c * (img ** gamma)\n",
    "    min_val = gamma_img.min()\n",
    "    max_val = gamma_img.max()\n",
    "    gamma_img = (gamma_img - min_val) / (max_val - min_val) * 255\n",
    "    return np.clip(gamma_img, 0, 255).astype('uint8')"
   ]
  },
  {
   "cell_type": "code",
   "execution_count": 125,
   "metadata": {},
   "outputs": [],
   "source": [
    "img = cv2.imread('../img/Fig0304(a)(breast_digital_Xray).tif')\n",
    "grey_img = rgbtransgray(img)\n",
    "reversed_img = img_trans_reverse(grey_img)\n",
    "log_img = img_trans_log(img, 1)\n"
   ]
  },
  {
   "cell_type": "code",
   "execution_count": 126,
   "metadata": {},
   "outputs": [],
   "source": [
    "cv2.imshow(\"img\", img)\n",
    "cv2.imshow(\"grey_img\", grey_img)\n",
    "cv2.imshow(\"reversed_img\", reversed_img)\n",
    "cv2.imshow(\"log_img\", log_img)\n",
    "cv2.waitKey(0)\n",
    "cv2.destroyAllWindows()"
   ]
  },
  {
   "cell_type": "code",
   "execution_count": 127,
   "metadata": {},
   "outputs": [],
   "source": [
    "img2 = cv2.imread('../img/Fig0308(a)(fractured_spine).tif')\n",
    "gamma_img_1 = img_trans_gamma(img2, 1, 0.6)\n",
    "gamma_img_2 = img_trans_gamma(img2, 1, 0.4)\n",
    "gamma_img_3 = img_trans_gamma(img2, 1, 0.3)\n",
    "img3 = cv2.imread('../img/Fig0309(a)(washed_out_aerial_image).tif')\n",
    "gamma_img_4 = img_trans_gamma(img3, 1, 3.0)\n",
    "gamma_img_5 = img_trans_gamma(img3, 1, 4.0)\n",
    "gamma_img_6 = img_trans_gamma(img3, 1, 5.0)"
   ]
  },
  {
   "cell_type": "code",
   "execution_count": 128,
   "metadata": {},
   "outputs": [],
   "source": [
    "cv2.imshow(\"img2\", img2)\n",
    "cv2.imshow(\"gamma_img_1\", gamma_img_1)\n",
    "cv2.imshow(\"gamma_img_2\", gamma_img_2)\n",
    "cv2.imshow(\"gamma_img_3\", gamma_img_3)\n",
    "cv2.waitKey(0)\n",
    "cv2.destroyAllWindows()"
   ]
  },
  {
   "cell_type": "code",
   "execution_count": 31,
   "metadata": {},
   "outputs": [],
   "source": [
    "cv2.imshow(\"img3\", img3)\n",
    "cv2.imshow(\"gamma_img_4\", gamma_img_4)\n",
    "cv2.imshow(\"gamma_img_5\", gamma_img_5)\n",
    "cv2.imshow(\"gamma_img_6\", gamma_img_6)\n",
    "cv2.waitKey(0)\n",
    "cv2.destroyAllWindows()"
   ]
  },
  {
   "cell_type": "code",
   "execution_count": 172,
   "metadata": {},
   "outputs": [],
   "source": [
    "def img_trans_strech(img, r1, s1, r2, s2):\n",
    "    height, width, channels = img.shape\n",
    "    strech_img = np.zeros((height, width, channels))\n",
    "    mask1 = img < r1\n",
    "    mask2 = (img >= r1) & (img <= r2)\n",
    "    mask3 = img > r2\n",
    "    strech_img[mask1] = img[mask1].astype('float64') * s1 / r1\n",
    "    strech_img[mask2] = (img[mask2].astype('float64') - r1) * (s2 - s1) / (r2 - r1) + s1\n",
    "    strech_img[mask3] = (img[mask3].astype('float64') - r2) * (255 - s2) / (255 - r2) + s2\n",
    "    return np.clip(np.round(strech_img), 0, 255).astype('uint8')"
   ]
  },
  {
   "cell_type": "code",
   "execution_count": 173,
   "metadata": {},
   "outputs": [],
   "source": [
    "img4 = cv2.imread('../img/Fig0310(b)(washed_out_pollen_image).tif')\n",
    "strech_img_1 = img_trans_strech(img4, img4.min(), 0, img4.max(), 255)\n",
    "strech_img_2 = img_trans_strech(img4, np.mean(img4), 0, np.mean(img4), 255)"
   ]
  },
  {
   "cell_type": "code",
   "execution_count": 171,
   "metadata": {},
   "outputs": [],
   "source": [
    "cv2.imshow(\"img4\", img4)\n",
    "cv2.imshow(\"strech_img_1\", strech_img_1)\n",
    "cv2.imshow(\"strech_img_2\", strech_img_2)\n",
    "cv2.waitKey(0)\n",
    "cv2.destroyAllWindows()"
   ]
  },
  {
   "cell_type": "code",
   "execution_count": 185,
   "metadata": {},
   "outputs": [],
   "source": [
    "def img_trans_greylevel(img, l, r, val, type=0):\n",
    "    height, width, channels = img.shape\n",
    "    new_img = np.zeros((height, width, channels))\n",
    "    new_img[(img >= l) & (img <= r)] = val\n",
    "    if type == 1:\n",
    "        new_img[(img < l) | (img > r)] = img[(img < l) | (img > r)]\n",
    "    return new_img.astype('uint8')"
   ]
  },
  {
   "cell_type": "code",
   "execution_count": 196,
   "metadata": {},
   "outputs": [],
   "source": [
    "img5 = cv2.imread('../img/Fig0312(a)(kidney).tif')\n",
    "greylevel_img_1 = img_trans_greylevel(img5, 150, 255, 255, 0)\n",
    "greylevel_img_2 = img_trans_greylevel(img5, 65, 150, 0, 1)"
   ]
  },
  {
   "cell_type": "code",
   "execution_count": 197,
   "metadata": {},
   "outputs": [],
   "source": [
    "cv2.imshow(\"img5\", img5)\n",
    "cv2.imshow(\"greylevel_img_1\", greylevel_img_1)\n",
    "cv2.imshow(\"greylevel_img_2\", greylevel_img_2)\n",
    "cv2.waitKey(0)\n",
    "cv2.destroyAllWindows()"
   ]
  },
  {
   "cell_type": "code",
   "execution_count": 204,
   "metadata": {},
   "outputs": [],
   "source": [
    "def img_trans_bitplane(img):\n",
    "    planes = []\n",
    "    for i in range(8):\n",
    "        plane = img % 2\n",
    "        plane[plane > 0] = 255\n",
    "        img = img >> 1\n",
    "        planes.append(plane)\n",
    "    return planes"
   ]
  },
  {
   "cell_type": "code",
   "execution_count": 215,
   "metadata": {},
   "outputs": [
    {
     "output_type": "stream",
     "name": "stdout",
     "text": [
      "224.0\n"
     ]
    }
   ],
   "source": [
    "img6 = cv2.imread('../img/Fig0314(a)(100-dollars).tif')\n",
    "imgs6 = img_trans_bitplane(img6)\n",
    "recon_img6 = imgs6[7] / 255 * 128 + imgs6[6] / 255 * 64 + imgs6[5] / 255 * 32\n",
    "print(recon_img6.max())"
   ]
  },
  {
   "cell_type": "code",
   "execution_count": 217,
   "metadata": {},
   "outputs": [],
   "source": [
    "cv2.imshow(\"img6\", img6)\n",
    "for i in range(8):\n",
    "    cv2.imshow(\"bit{}\".format(i + 1), imgs6[i])\n",
    "cv2.imshow(\"recons\", recon_img6.astype('uint8'))\n",
    "cv2.waitKey(0)\n",
    "cv2.destroyAllWindows()   "
   ]
  },
  {
   "cell_type": "code",
   "execution_count": null,
   "metadata": {},
   "outputs": [],
   "source": []
  }
 ]
}