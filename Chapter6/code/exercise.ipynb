{
 "metadata": {
  "language_info": {
   "codemirror_mode": {
    "name": "ipython",
    "version": 3
   },
   "file_extension": ".py",
   "mimetype": "text/x-python",
   "name": "python",
   "nbconvert_exporter": "python",
   "pygments_lexer": "ipython3",
   "version": "3.7.10"
  },
  "orig_nbformat": 2,
  "kernelspec": {
   "name": "python3710jvsc74a57bd0dca0ade3e726a953b501b15e8e990130d2b7799f14cfd9f4271676035ebe5511",
   "display_name": "Python 3.7.10 64-bit ('base': conda)"
  }
 },
 "nbformat": 4,
 "nbformat_minor": 2,
 "cells": [
  {
   "cell_type": "code",
   "execution_count": 1,
   "metadata": {},
   "outputs": [],
   "source": [
    "\n",
    "import cv2\n",
    "import numpy as np\n",
    "import math\n",
    "import matplotlib.pyplot as plt"
   ]
  },
  {
   "cell_type": "code",
   "execution_count": 2,
   "metadata": {},
   "outputs": [],
   "source": [
    "def img_norm(img):\n",
    "    new_img = img.copy().astype('float64')\n",
    "    new_img -= img.min()\n",
    "    max_val = new_img.max()\n",
    "    new_img = new_img / (max_val) * 255\n",
    "    return np.clip(new_img.round(), 0, 255).astype('uint8')"
   ]
  },
  {
   "cell_type": "code",
   "execution_count": 3,
   "metadata": {},
   "outputs": [],
   "source": [
    "def img_to_RGB(img):\n",
    "    b = img[:, :, 0]\n",
    "    g = img[:, :, 1]\n",
    "    r = img[:, :, 2]\n",
    "    return r, g, b"
   ]
  },
  {
   "cell_type": "code",
   "execution_count": 4,
   "metadata": {},
   "outputs": [],
   "source": [
    "def img_to_CMY(img):\n",
    "    Y = 255 - img[:, :, 0]\n",
    "    M = 255 - img[:, :, 1]\n",
    "    C = 255 - img[:, :, 2]\n",
    "    return C, M, Y"
   ]
  },
  {
   "cell_type": "code",
   "execution_count": 5,
   "metadata": {},
   "outputs": [],
   "source": [
    "def img_to_HSI(img):\n",
    "    new_img = img.copy().astype('float64')\n",
    "    r, g, b = img_to_RGB(new_img)\n",
    "    up = 0.5 * (2 * r - g - b) + 1e-12\n",
    "    down = np.sqrt(np.square(r - g) + (r - b) * (g - b)) + 1e-12\n",
    "    theta = np.rad2deg(np.arccos(up / down))\n",
    "    H = theta\n",
    "    H[b > g] = 360 - theta[b > g]\n",
    "    H = H / 360 * 255\n",
    "    S = (1 - 3 * (np.min(new_img, axis = 2) + 1e-12) / (r + g + b + 1e-12)) * 255\n",
    "    I = (r + g + b) / 3\n",
    "    return H.round().astype('uint8'), S.round().astype('uint8'), I.round().astype('uint8')\n"
   ]
  },
  {
   "cell_type": "code",
   "execution_count": 6,
   "metadata": {},
   "outputs": [],
   "source": [
    "img = cv2.imread('../img/Fig0638(a)(lenna_RGB).tif')\n",
    "img1 = cv2.imread('../img/color.jpg')\n",
    "img_r, img_g, img_b = img_to_RGB(img)\n",
    "img_c, img_m, img_y = img_to_CMY(img)\n",
    "img_h, img_s, img_i = img_to_HSI(img1)\n"
   ]
  },
  {
   "cell_type": "code",
   "execution_count": 14,
   "metadata": {},
   "outputs": [],
   "source": [
    "cv2.imshow(\"rgb\", img)\n",
    "cv2.imshow(\"r\", img_r)\n",
    "cv2.imshow(\"g\", img_g)\n",
    "cv2.imshow(\"b\", img_b)\n",
    "cv2.waitKey(0)\n",
    "cv2.destroyAllWindows()\n"
   ]
  },
  {
   "cell_type": "code",
   "execution_count": 19,
   "metadata": {},
   "outputs": [],
   "source": [
    "cv2.imshow(\"rgb\", img)\n",
    "cv2.imshow(\"c\", img_c)\n",
    "cv2.imshow(\"m\", img_m)\n",
    "cv2.imshow(\"y\", img_y)\n",
    "cv2.waitKey(0)\n",
    "cv2.destroyAllWindows()"
   ]
  },
  {
   "cell_type": "code",
   "execution_count": 193,
   "metadata": {},
   "outputs": [],
   "source": [
    "cv2.imshow(\"rgb\", img1)\n",
    "cv2.imshow(\"H\", img_h)\n",
    "cv2.imshow(\"S\", img_s)\n",
    "cv2.imshow(\"I\", img_i)\n",
    "cv2.waitKey(0)\n",
    "cv2.destroyAllWindows()"
   ]
  },
  {
   "cell_type": "code",
   "execution_count": 8,
   "metadata": {},
   "outputs": [],
   "source": [
    "def intensitySlicing(img):\n",
    "    height, width = img.shape\n",
    "    result = np.zeros((height, width, 3), np.uint8)\n",
    "    for i in range(height):\n",
    "        for j in range(width):\n",
    "            if img[i, j] > 224:\n",
    "                result[i, j] = [255, 255, 255]\n",
    "            elif img[i, j] > 192:\n",
    "                result[i, j] = [219, 226, 255]\n",
    "            elif img[i, j] > 160:\n",
    "                result[i, j] = [184, 197, 255]\n",
    "            elif img[i, j] > 128:\n",
    "                result[i, j] = [148, 168, 255]\n",
    "            elif img[i, j] > 96:\n",
    "                result[i, j] = [219, 226, 255]\n",
    "            elif img[i, j] > 64:\n",
    "                result[i, j] = [112, 138, 255]\n",
    "            elif img[i, j] > 32:\n",
    "                result[i, j] = [76, 109, 255]\n",
    "            else:\n",
    "                result[i, j] = [41, 80, 255]\n",
    "\n",
    "    return result"
   ]
  },
  {
   "cell_type": "code",
   "execution_count": 9,
   "metadata": {},
   "outputs": [],
   "source": [
    "img2 = cv2.imread(\"/Users/zhuole/Desktop/DIP/DIP-python-main/images/yiqin_gray.jpg\", 0)\n",
    "cv2.imshow(\"img2\", img2)\n",
    "cv2.imshow(\"color_img2\", intensitySlicing(img2))\n",
    "cv2.waitKey(0)\n",
    "cv2.destroyAllWindows()"
   ]
  },
  {
   "cell_type": "code",
   "execution_count": 15,
   "metadata": {},
   "outputs": [],
   "source": [
    "def grayToColor(img):\n",
    "    height, width = img.shape\n",
    "    result = np.zeros((height, width, 3), np.uint8)\n",
    "    result[:, :, 2] = np.sin(img) * 255\n",
    "    result[:, :, 1] = np.sin(img + np.pi / 3) * 255\n",
    "    result[:, :, 0] = np.sin(img + np.pi / 5) * 255\n",
    "    return result"
   ]
  },
  {
   "cell_type": "code",
   "execution_count": 16,
   "metadata": {},
   "outputs": [],
   "source": [
    "img3 = cv2.imread(\"/Users/zhuole/Desktop/DIP/Chapter6/img/Fig0621(a)(weld-original).tif\", 0)\n",
    "cv2.imshow(\"img3\", img3)\n",
    "cv2.imshow(\"color_img3\", grayToColor(img3))\n",
    "cv2.waitKey(0)\n",
    "cv2.destroyAllWindows()"
   ]
  },
  {
   "cell_type": "code",
   "execution_count": 75,
   "metadata": {},
   "outputs": [],
   "source": [
    "def colorSlicing(img, C, type):\n",
    "    height, width, channels = img.shape\n",
    "    result = img.copy().astype('float64') / 255\n",
    "    img = img.astype('float64') / 255\n",
    "    r = np.array([0.1922, 0.1608, 0.6863])\n",
    "    if type == 1:\n",
    "        mask_1 = np.fabs(img[:, :, 0] - r[0]) > (C / 2)\n",
    "        mask_1 = np.array([mask_1] * 3).transpose(1, 2, 0)\n",
    "        result[mask_1] = 0.5\n",
    "        mask_1 = np.fabs(img[:, :, 1] - r[1]) > (C / 2)\n",
    "        mask_1 = np.array([mask_1] * 3).transpose(1, 2, 0)\n",
    "        result[mask_1] = 0.5\n",
    "        mask_1 = np.fabs(img[:, :, 2] - r[2]) > (C / 2)\n",
    "        mask_1 = np.array([mask_1] * 3).transpose(1, 2, 0)\n",
    "        result[mask_1] = 0.5\n",
    "    else:\n",
    "        mask_2 = np.sum(np.square(img - r), axis=2) > C ** 2\n",
    "        result[mask_2] = 0.5\n",
    "    result = result * 255\n",
    "    return result.astype('uint8')"
   ]
  },
  {
   "cell_type": "code",
   "execution_count": 74,
   "metadata": {},
   "outputs": [
    {
     "output_type": "stream",
     "name": "stdout",
     "text": [
      "(666, 666)\n"
     ]
    }
   ],
   "source": [
    "img4 = cv2.imread(\"/Users/zhuole/Desktop/DIP/Chapter6/img/Fig0630(01)(strawberries_fullcolor).tif\")\n",
    "cv2.imshow(\"img4\", img4)\n",
    "cv2.imshow(\"color_img3_cube\", colorSlicing(img4, 0.2549, 1))\n",
    "cv2.imshow(\"color_img3_circ\", colorSlicing(img4, 0.1765, 2))\n",
    "cv2.waitKey(0)\n",
    "cv2.destroyAllWindows()"
   ]
  },
  {
   "cell_type": "code",
   "execution_count": 88,
   "metadata": {},
   "outputs": [],
   "source": [
    "def sobelFilter(img):\n",
    "    height, width, channels = img.shape\n",
    "    padding = 1\n",
    "    gx = np.zeros((height, width, channels))\n",
    "    gy = np.zeros((height, width, channels))\n",
    "    pad_img = np.zeros((height + 2 * padding, width + 2 * padding, channels))\n",
    "    pad_img[padding: padding + height, padding: padding + width, :] = img\n",
    "    filter_x = [[-1, -2, -1], [0, 0, 0], [1, 2, 1]]\n",
    "    filter_y = [[-1, 0, 1], [-2, 0, 2], [-1, 0, 1]]\n",
    "    for i in range(height):\n",
    "        for j in range(width):\n",
    "            for k in range(channels):\n",
    "                gx[i, j, k] = np.fabs(np.sum(filter_x * pad_img[i: i + 3, j: j + 3, k]))\n",
    "                gy[i, j, k] = np.fabs(np.sum(filter_y * pad_img[i: i + 3, j: j + 3, k]))\n",
    "    return gx, gy"
   ]
  },
  {
   "cell_type": "code",
   "execution_count": 115,
   "metadata": {},
   "outputs": [],
   "source": [
    "def edgeDetection(img):\n",
    "    gx, gy = sobelFilter(img)\n",
    "    gxx = np.square(gx).sum(axis=2)\n",
    "    gyy = np.square(gy).sum(axis=2)\n",
    "    gxy = np.sum(gx * gy, axis=2)\n",
    "    theta = 0.5 * np.arctan(2 * gxy / (gxx - gyy + 1e-12))\n",
    "    f = np.sqrt(0.5 * ((gxx + gyy) + (gxx - gyy) * np.cos(np.rad2deg(2 * theta)) + 2 * gxy * np.sin(np.rad2deg(2 * theta))))\n",
    "    print(f.shape)\n",
    "    return img_norm(f)\n"
   ]
  },
  {
   "cell_type": "code",
   "execution_count": 125,
   "metadata": {},
   "outputs": [
    {
     "output_type": "stream",
     "name": "stdout",
     "text": [
      "(512, 512)\n"
     ]
    }
   ],
   "source": [
    "img5 = cv2.imread(\"/Users/zhuole/Desktop/DIP/Chapter6/img/Fig0646(a)(lenna_original_RGB).tif\")\n",
    "edge = edgeDetection(img5)\n",
    "sharpen_img5 = img_norm(img5.astype('float64') + edge[:, :, np.newaxis].astype('float64'))"
   ]
  },
  {
   "cell_type": "code",
   "execution_count": 124,
   "metadata": {},
   "outputs": [],
   "source": [
    "\n",
    "cv2.imshow(\"img5\", img5)\n",
    "cv2.imshow(\"edge\",edge)\n",
    "cv2.imshow(\"sharpen\", sharpen_img5)\n",
    "cv2.waitKey(0)\n",
    "cv2.destroyAllWindows()"
   ]
  },
  {
   "cell_type": "code",
   "execution_count": null,
   "metadata": {},
   "outputs": [],
   "source": []
  }
 ]
}